{
  "nbformat": 4,
  "nbformat_minor": 0,
  "metadata": {
    "colab": {
      "name": "ExemploPraticoModeloK-Means.ipynb",
      "provenance": []
    },
    "kernelspec": {
      "name": "python3",
      "display_name": "Python 3"
    }
  },
  "cells": [
    {
      "cell_type": "markdown",
      "metadata": {
        "id": "ZZQ1AXKV5Rjh"
      },
      "source": [
        "#Modelo `K-Means`\n",
        "\n",
        "O algoritmo de agrupamento `K-Means` é uma técnica de aprendizado de máquina não supervisionado capaz de formar grupos (clusters) de dados com base na similaridade entre as instâncias de um conjunto de dados multidimensional não rotulado. É uma técnica muito conhecida, popular por sua simplicidade e amplamente utilizada na comunidade científica. \n",
        "\n",
        "<p align=center>\n",
        "  <img src=\"https://miro.medium.com/max/2160/1*tWaaZX75oumVwBMcKN-eHA.png\" width=\"500px\">\n",
        "</p>\n",
        "\n",
        "O objetivo do `K-Means` é agrupar as observações em um número, **K**, pré-especificado de grupos distintos e não sobrepostos. Para realizar o agrupamento é necessário, inicialmente, definir o número **K** em que o algoritmo dividirá o conjunto.\n",
        "\n",
        "Para entender o funcionamento do algoritmo `K-Means` vamos seguir os seguintes passos:\n",
        "\n",
        "1. Importação das bibliotecas Python;\n",
        "2. Geração do conjunto de dados sintéticos;\n",
        "3. Análise/visualização gráfica dos dados (se possível);\n",
        "4. Execução do modelo `K-Means`;\n",
        "5. Verificação dos resultados; \n"
      ]
    },
    {
      "cell_type": "markdown",
      "metadata": {
        "id": "dj6yuykmbCIo"
      },
      "source": [
        "##Importação das bibliotecas Python\n",
        "\n",
        "Nesse exemplo, utilizaremos mais uma vez a linguagem de programação Python. Para execução das tarefas relacionadas a algoritmos de aprendizado de máquina exitem várias bibliotecas em Python que facilitam o desenvolvimento de aplicações em *machine learning*.\n",
        "\n",
        "Entre as inúmeras bibliotecas disponíveis, destacam-se:\n",
        "\n",
        "1.   [**Pandas**](https://pandas.pydata.org/): Biblioteca Python para manipulação e análise de dados. Oferece estruturas e operações para manipular tabelas e séries temporais. É um software livre com licença tipo BSD.\n",
        "2.   [**Matplotlib**](https://matplotlib.org/): Biblioteca Python para visualização de dados, também é distibuída com licença de software tipo BSD.\n",
        "3.   [**Numpy**](https://numpy.org/): Biblioteca Python com licença tipo BDS para manipulação de arrays e matrizes. É uma ferramenta extremamente útil para trabalhar a base de dados.\n",
        "4. [**Seaborn**](https://github.com/mwaskom/seaborn): É uma biblioteca Python também com licença tipo BSD utilizada para visualização de dados em alto nível. Trabalha com a biblioteca **Matplotlib** e possui integração com as estruturas da biblioteca **Pandas**.\n",
        "5. [**Scikit-learn**](https://scikit-learn.org/stable/): Trata-se de uma biblioteca de aprendizado de máquina escrita em Pyton, possui licença licença tipo BSD e inclui vários algoritmos de classificação, regressão e agrupamento. É uma das bibliotecas mais utilizadas no desenvovimento de algoritmos de aprendizado de máquina.\n"
      ]
    },
    {
      "cell_type": "code",
      "metadata": {
        "id": "Mp4Rz4KybCWG"
      },
      "source": [
        "#Importanto as bibliotecas Python necessarias ao experimento\n",
        "#Manipulacao matricial e visualizacao grafica\n",
        "#--------------------------------------------------\n",
        "import pandas as pd\n",
        "import matplotlib.pyplot as plt\n",
        "import seaborn as sns\n",
        "import numpy as np\n",
        "#--------------------------------------------------\n",
        "#Processamento dos dados\n",
        "#--------------------------------------------------\n",
        "from sklearn.datasets.samples_generator import make_blobs\n",
        "#--------------------------------------------------\n",
        "#Carregando o modelo K-Means da biblioteca Scikit-learn\n",
        "#--------------------------------------------------\n",
        "from sklearn.cluster import KMeans\n",
        "#Carregando módulo para ignorar mensagens de Warning\n",
        "import warnings\n",
        "warnings.simplefilter(action='ignore', category=FutureWarning)\n",
        "\n",
        "localDataEndereco = \"/content/breast-cancer-wisconsin.csv\" \n",
        "df = pd.read_csv(localDataEndereco)\n"
      ],
      "execution_count": null,
      "outputs": []
    },
    {
      "cell_type": "code",
      "metadata": {
        "id": "h6y-71VQ3NOW",
        "outputId": "db72605a-81b2-4a70-8a49-73a3b2871490",
        "colab": {
          "base_uri": "https://localhost:8080/"
        }
      },
      "source": [
        "# Separando os dados em entrada e saida desejada e removendo as colunas `diagnosis` e `id`\n",
        "dados = df.drop(['diagnosis', 'id'], axis=1)\n",
        "dadosNaoRotulados = df[['radius_mean', 'texture_mean', 'concavity_mean', 'concave points_mean', 'area_se', 'radius_worst', 'texture_worst', 'perimeter_worst', 'area_worst', 'concavity_worst', 'concave points_worst']]\n",
        "#dados = df[['radius_mean', 'texture_mean']]\n",
        "#print(dadosNaoRotulados)\n",
        "print(dadosNaoRotulados)\n",
        "print(dados)"
      ],
      "execution_count": 213,
      "outputs": [
        {
          "output_type": "stream",
          "text": [
            "     radius_mean  texture_mean  ...  concavity_worst  concave points_worst\n",
            "0          9.029         17.33  ...            1.252               175.000\n",
            "1         12.780         16.49  ...            1.039                 5.882\n",
            "2         18.940         21.31  ...            2.687                 1.789\n",
            "3          8.888         14.64  ...            1.434                 4.786\n",
            "4         17.200         24.52  ...            6.566                 1.899\n",
            "..           ...           ...  ...              ...                   ...\n",
            "564        9.173         13.86  ...            1.397                 5.087\n",
            "565       12.680         23.84  ...            4.024                 1.716\n",
            "566       14.780         23.94  ...            3.024                 1.614\n",
            "567        9.465         21.01  ...            9.412                 6.517\n",
            "568       11.310         19.04  ...            1.444                 6.961\n",
            "\n",
            "[569 rows x 11 columns]\n",
            "     radius_mean  texture_mean  ...  symmetry_worst  fractal_dimension_worst\n",
            "0          9.029         17.33  ...           4.228                    1.175\n",
            "1         12.780         16.49  ...           2.383                  641.000\n",
            "2         18.940         21.31  ...           2.551                    6.589\n",
            "3          8.888         14.64  ...           2.254                    1.084\n",
            "4         17.200         24.52  ...           3.313                    1.339\n",
            "..           ...           ...  ...             ...                      ...\n",
            "564        9.173         13.86  ...           3.282                  849.000\n",
            "565       12.680         23.84  ...           3.383                    1.031\n",
            "566       14.780         23.94  ...           3.321                    8.911\n",
            "567        9.465         21.01  ...           2.878                    9.211\n",
            "568       11.310         19.04  ...           0.240                    6.641\n",
            "\n",
            "[569 rows x 30 columns]\n"
          ],
          "name": "stdout"
        }
      ]
    },
    {
      "cell_type": "code",
      "metadata": {
        "id": "iNmVEHAKopd7",
        "outputId": "96b8cc66-02c0-4f52-bf17-1777100af514",
        "colab": {
          "base_uri": "https://localhost:8080/",
          "height": 364
        }
      },
      "source": [
        "# Identificacao grafica da distribuicao das instancias\n",
        "sns.countplot(df['diagnosis'],label=\"Count\")\n",
        "\n",
        "B, M = df['diagnosis'].value_counts()\n",
        "print('Benignos : ',B)\n",
        "print('Malignos : ',M)\n",
        "print('---------------------')\n",
        "print('Proporção de Benignos: ', 100*B/(B+M))\n",
        "print('Proporção de Malignos: ', 100*M/(B+M))"
      ],
      "execution_count": 214,
      "outputs": [
        {
          "output_type": "stream",
          "text": [
            "Benignos :  357\n",
            "Malignos :  212\n",
            "---------------------\n",
            "Proporção de Benignos:  62.74165202108963\n",
            "Proporção de Malignos:  37.25834797891037\n"
          ],
          "name": "stdout"
        },
        {
          "output_type": "display_data",
          "data": {
            "image/png": "[encoded data removed]",
            "text/plain": [
              "<Figure size 432x288 with 1 Axes>"
            ]
          },
          "metadata": {
            "tags": [],
            "needs_background": "light"
          }
        }
      ]
    },
    {
      "cell_type": "markdown",
      "metadata": {
        "id": "VmTfuf3gHNee"
      },
      "source": [
        "##Gerando um conjunto de dados de sintético em Python\n",
        "\n",
        "Para demonstrar o uso do algoritmo `K-Means` do pacote Scikit-learn é necessário utilizar um conjunto de dados não rotulado. Existem diversas formas de criar uma nuvem de pontos no espaço R<sup>n</sup> utilizando a linguagem Python.\n",
        "\n",
        "No exemplo em estudo, será utilizado um pacote da biblioteca `Scikit-learn` para gerar um conjunto sintético de 200 instâncias no espaço R<sup>3</sup>. \n",
        "\n",
        "Adotamos o espaço R<sup>3</sup> devido a possibildiade de visualização de um conjunto de dados tridimensional.\n"
      ]
    },
    {
      "cell_type": "code",
      "metadata": {
        "id": "kAOlWyPz2caM",
        "outputId": "59cf88d6-7f3d-42ca-8340-7465676ccb7a",
        "colab": {
          "base_uri": "https://localhost:8080/",
          "height": 52
        }
      },
      "source": [
        "'''#Utilizando a funcao makeblobs para gerar o conjunto tridimensional de 200 instancias\n",
        "dadosNaoRotulados, rotuloClusterDados = make_blobs(n_samples=569, n_features=30, \n",
        "                       cluster_std=0.80, centers=2);\n",
        "print(dadosNaoRotulados)\n",
        "print(rotuloClusterDados)'''"
      ],
      "execution_count": 215,
      "outputs": [
        {
          "output_type": "execute_result",
          "data": {
            "application/vnd.google.colaboratory.intrinsic+json": {
              "type": "string"
            },
            "text/plain": [
              "'#Utilizando a funcao makeblobs para gerar o conjunto tridimensional de 200 instancias\\ndadosNaoRotulados, rotuloClusterDados = make_blobs(n_samples=569, n_features=30, \\n                       cluster_std=0.80, centers=2);\\nprint(dadosNaoRotulados)\\nprint(rotuloClusterDados)'"
            ]
          },
          "metadata": {
            "tags": []
          },
          "execution_count": 215
        }
      ]
    },
    {
      "cell_type": "markdown",
      "metadata": {
        "id": "Uo7LaivMwBhi"
      },
      "source": [
        "## Análise/visualização gráfica dos dados\n",
        "\n",
        "A análise visual dos dados, sempre que possível, é uma ferramenta interessante para que o analista consiga obter informações relevantes sobre a distribuição e comportamento dos dados no espaço.\n",
        "\n",
        "Em nosso exemplo os dados foram intencionalmente gerados no espaço tridimensional para proporcionar a visualização dos pontos no espaço R<sup>3</sup>."
      ]
    },
    {
      "cell_type": "code",
      "metadata": {
        "id": "HS7mbtO1yAbG",
        "outputId": "75261353-8789-47a4-db5e-b4e5da08d788",
        "colab": {
          "base_uri": "https://localhost:8080/",
          "height": 52
        }
      },
      "source": [
        "'''#Utilizando o pacote Matplotlib para gerar a visualizacao grafica dos dados e verificar o comportamento dos dados sinteticos no espaco\n",
        "grafico3d = plt.axes(projection='3d')\n",
        "grafico3d.scatter3D(dadosNaoRotulados[:, 0], dadosNaoRotulados[:, 1], dadosNaoRotulados[:, 2])'''"
      ],
      "execution_count": 216,
      "outputs": [
        {
          "output_type": "execute_result",
          "data": {
            "application/vnd.google.colaboratory.intrinsic+json": {
              "type": "string"
            },
            "text/plain": [
              "\"#Utilizando o pacote Matplotlib para gerar a visualizacao grafica dos dados e verificar o comportamento dos dados sinteticos no espaco\\ngrafico3d = plt.axes(projection='3d')\\ngrafico3d.scatter3D(dadosNaoRotulados[:, 0], dadosNaoRotulados[:, 1], dadosNaoRotulados[:, 2])\""
            ]
          },
          "metadata": {
            "tags": []
          },
          "execution_count": 216
        }
      ]
    },
    {
      "cell_type": "markdown",
      "metadata": {
        "id": "tT8AwMFUzKT_"
      },
      "source": [
        "##Execução do modelo K-Means\n",
        "\n",
        "Como descrito anteriormente, o `K-Means` foi o modelo selecionado para estudar o problema de agrupamento de dados não rotulados.\n",
        "\n",
        "Na literatura, existem diversos modelos que poderiam ser utilizados para a mesma finalidade (Ex: ***Fuzzy C-Means, Mapas de Kohonen, Clusters Hierárquicos, entre outros***). O `K-Means`foi escolhido devido a sua facilidade de entendimento e por ser amplamente utilizado na comunidade científica. \n",
        "\n",
        "É importante destacar que mesmo sendo um modelo com baixo grau de complexidade, o `K-Means` apresenta resultados interessantes para grande parte dos problemas de agrupamento de dados não rotulados no qual ele é aplicado.\n",
        "\n",
        "O `K-Means` será executado na versão implementada na biblioteca `Scikit-learn` através da função `KMeans`. Para ter acesso a todos os hiperparâmetros do modelo `K-Means` consulte o [manual do modelo](https://scikit-learn.org/stable/modules/generated/sklearn.cluster.KMeans.html) no portal do `Scikit-learn`."
      ]
    },
    {
      "cell_type": "code",
      "metadata": {
        "id": "oOnJeIXZHOEJ"
      },
      "source": [
        "#Criando uma instancia do K-Means para a divisao dos dados sinteticos em 4 clusters\n",
        "kmeans = KMeans(n_clusters=2)\n",
        "#Atribuindo os dados sinteticos, gerados anteriormente a instancia do K-Means e ajustando o modelo para localicar as centroides\n",
        "kmeans.fit(dadosNaoRotulados)\n",
        "#Calculando os clusters para os dados nao rotulados e atribuindo os centros em uma nova variavel\n",
        "saidaRotulos_kmeans = kmeans.predict(dadosNaoRotulados)\n",
        "centers = kmeans.cluster_centers_"
      ],
      "execution_count": 225,
      "outputs": []
    },
    {
      "cell_type": "markdown",
      "metadata": {
        "id": "N1iPUyBx8WqL"
      },
      "source": [
        "##Verificação dos resultados\n",
        "\n",
        "Após o cálculo dos centros e a obtenção dos rótulos é possível avaliar os resutlados do algoritmo `K-Means`. Existem várias formas de avaliar o desempenho do modelo.\n",
        "\n",
        "No exemplo em análise os resultados serão exibidos por meio da impressão dos rótulos atribuidos aos dados e também através da análise gráfica dos clusters formados após a obtenção dos grupos.\n"
      ]
    },
    {
      "cell_type": "code",
      "metadata": {
        "id": "5tGIJ1NsHULe",
        "outputId": "e7ba806c-d494-4e95-89f2-04af87b4c5ee",
        "colab": {
          "base_uri": "https://localhost:8080/",
          "height": 358
        }
      },
      "source": [
        "#Impressao dos rotulos atribuidos pelo K-Means aos dados não rotulados\n",
        "cont0 = 0\n",
        "cont1 = 0\n",
        "for i in range(569):\n",
        "  if (saidaRotulos_kmeans[i]==0):\n",
        "    cont0 = cont0 + 1\n",
        "  else: \n",
        "    cont1 = cont1 + 1\n",
        "\n",
        "\n",
        "print(\"Beligno: \",cont0)\n",
        "print(\"Maligno: \",cont1)\n",
        "print(saidaRotulos_kmeans)\n",
        "#Utilizando as bibliotecas Python para visualisar os clusters formados nos dados sinteticos\n",
        "'''graficoResultado3d = plt.axes(projection='3d')\n",
        "graficoResultado3d.scatter3D(dadosNaoRotulados[:, 0], dadosNaoRotulados[:, 1], dadosNaoRotulados[:, 2], c=saidaRotulos_kmeans, s=50, cmap='viridis',alpha=0.2)\n",
        "graficoResultado3d.scatter3D(centers[:, 0], centers[:, 1], centers[:, 2],c='black', s=569, alpha=1)'''"
      ],
      "execution_count": 226,
      "outputs": [
        {
          "output_type": "stream",
          "text": [
            "Beligno:  438\n",
            "Maligno:  131\n",
            "[0 0 1 0 1 0 0 1 0 1 1 0 0 0 1 1 0 1 0 1 0 0 0 0 0 0 0 1 0 0 0 0 0 0 0 0 0\n",
            " 0 0 0 1 0 0 0 0 0 0 0 0 0 1 1 0 1 1 0 0 0 0 1 0 1 0 0 0 0 1 0 0 0 0 0 0 1\n",
            " 0 0 0 0 0 0 0 0 0 0 0 0 0 0 1 0 0 0 0 1 1 0 1 0 0 1 1 0 0 0 0 0 0 0 0 0 0\n",
            " 0 1 1 1 0 0 0 1 0 0 0 0 0 0 0 0 0 0 1 1 0 0 1 1 0 0 0 0 1 0 0 1 0 1 0 0 0\n",
            " 0 0 1 1 0 0 0 0 0 0 0 0 0 0 1 0 0 1 0 0 1 1 0 1 0 0 0 0 1 0 0 0 0 0 1 0 1\n",
            " 1 1 0 1 0 1 0 1 1 1 0 1 1 0 0 0 0 0 0 1 0 1 0 0 1 0 0 1 0 1 0 0 0 0 0 0 0\n",
            " 0 0 0 0 0 0 0 0 0 0 1 0 1 0 0 0 0 0 0 0 0 0 0 0 0 0 0 1 0 0 0 1 0 1 0 0 0\n",
            " 0 0 0 0 0 0 0 0 1 0 1 0 1 0 0 0 1 0 0 0 0 0 0 0 0 1 0 0 0 0 0 0 0 0 0 0 0\n",
            " 0 1 1 0 1 1 0 0 1 1 0 0 0 0 0 0 0 0 0 0 0 0 0 0 0 1 0 0 1 1 0 0 0 0 0 0 1\n",
            " 0 0 0 0 0 0 0 1 0 0 0 0 0 0 0 0 1 0 0 0 0 0 0 0 0 0 0 0 0 0 0 1 1 0 0 0 0\n",
            " 0 0 0 1 0 0 1 0 1 0 0 1 0 1 0 0 0 0 0 0 0 0 1 1 0 0 0 0 0 0 1 0 0 0 0 0 0\n",
            " 0 0 0 0 0 0 0 0 0 0 0 0 1 0 0 0 1 1 0 0 0 0 0 1 1 0 0 0 1 0 0 0 0 0 0 0 0\n",
            " 0 0 0 0 1 1 0 0 0 1 0 0 0 0 0 0 0 0 0 0 0 1 0 1 0 0 0 0 0 0 0 0 0 0 0 0 0\n",
            " 0 0 0 0 0 0 0 0 0 0 0 0 0 0 1 1 1 0 1 0 1 1 1 0 1 0 1 0 0 0 0 1 1 0 0 0 0\n",
            " 1 1 0 0 0 0 1 1 1 0 1 1 1 1 0 1 1 1 1 0 0 0 0 0 0 1 0 0 1 0 0 0 0 0 0 0 1\n",
            " 0 0 1 0 0 0 0 0 0 0 0 0 0 0]\n"
          ],
          "name": "stdout"
        },
        {
          "output_type": "execute_result",
          "data": {
            "application/vnd.google.colaboratory.intrinsic+json": {
              "type": "string"
            },
            "text/plain": [
              "\"graficoResultado3d = plt.axes(projection='3d')\\ngraficoResultado3d.scatter3D(dadosNaoRotulados[:, 0], dadosNaoRotulados[:, 1], dadosNaoRotulados[:, 2], c=saidaRotulos_kmeans, s=50, cmap='viridis',alpha=0.2)\\ngraficoResultado3d.scatter3D(centers[:, 0], centers[:, 1], centers[:, 2],c='black', s=569, alpha=1)\""
            ]
          },
          "metadata": {
            "tags": []
          },
          "execution_count": 226
        }
      ]
    },
    {
      "cell_type": "markdown",
      "metadata": {
        "id": "nmPqL9yj_2Pm"
      },
      "source": [
        "## Considerações\n",
        "\n",
        "Observando os grupos formados pelo algoritmo `K-Means` é possível inferir que valores os grupos formados foram capazes de dividir adequadamente os dados sintéticos gerados. \n",
        "\n",
        "Vale ressaltar que os dados sintéticos obtidos por meio da função `samples_generator` do Python foram criados com uma certa separação inicial (que pôde ser verificada visualmente no primeiro gráfico). Essa separação dos dados facilitou o processo de obtenção dos grupos pelo algoritmo `K-Means`.\n",
        "\n",
        "Em linhas gerais, os grupos obtidos para esse conjunto de dados sintéticos atendeu adequadamente os objetivos desse estudo de dados. Lembrando que o resultado do `K-Means` varia de acordo com cada tipo de problema em análise.\n",
        "\n",
        "Espero que você tenha compreendido as explicações.\n",
        "Desejo um ótimo estudo para você."
      ]
    }
  ]
}